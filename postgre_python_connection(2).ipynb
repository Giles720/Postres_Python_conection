{
 "cells": [
  {
   "cell_type": "markdown",
   "id": "dbf8901f-29e9-4ec4-b89b-5d8cfd48d7e4",
   "metadata": {},
   "source": [
    "# Step-by-Step Demonstration of Connecting  Python to PostgresSQL Database "
   ]
  },
  {
   "cell_type": "markdown",
   "id": "4baf51a8-a96a-4bc8-bd7d-83b9b8a13d17",
   "metadata": {},
   "source": [
    "## Step 1 : Loading of Neccesary Libraries"
   ]
  },
  {
   "cell_type": "code",
   "execution_count": 1,
   "id": "dae368af-1c0e-49fd-ba30-5c0bd1fd79ab",
   "metadata": {},
   "outputs": [],
   "source": [
    "import pandas as pd\n",
    "import psycopg2"
   ]
  },
  {
   "cell_type": "markdown",
   "id": "ea633140-8276-4a6c-8928-41511e405603",
   "metadata": {},
   "source": [
    "## Step 2 : Loading of DataFrame (Sales_table -an excel files)"
   ]
  },
  {
   "cell_type": "code",
   "execution_count": 2,
   "id": "93c72374-28bc-492a-b6bd-70c8abf9ad40",
   "metadata": {},
   "outputs": [
    {
     "data": {
      "text/html": [
       "<div>\n",
       "<style scoped>\n",
       "    .dataframe tbody tr th:only-of-type {\n",
       "        vertical-align: middle;\n",
       "    }\n",
       "\n",
       "    .dataframe tbody tr th {\n",
       "        vertical-align: top;\n",
       "    }\n",
       "\n",
       "    .dataframe thead th {\n",
       "        text-align: right;\n",
       "    }\n",
       "</style>\n",
       "<table border=\"1\" class=\"dataframe\">\n",
       "  <thead>\n",
       "    <tr style=\"text-align: right;\">\n",
       "      <th></th>\n",
       "      <th>id</th>\n",
       "      <th>Order_Date</th>\n",
       "      <th>Region</th>\n",
       "      <th>Country</th>\n",
       "      <th>Item_type</th>\n",
       "      <th>Quantity</th>\n",
       "      <th>Price</th>\n",
       "    </tr>\n",
       "  </thead>\n",
       "  <tbody>\n",
       "    <tr>\n",
       "      <th>0</th>\n",
       "      <td>1</td>\n",
       "      <td>2011-04-04</td>\n",
       "      <td>Australia</td>\n",
       "      <td>Australia</td>\n",
       "      <td>Meat</td>\n",
       "      <td>4300</td>\n",
       "      <td>421.89</td>\n",
       "    </tr>\n",
       "    <tr>\n",
       "      <th>1</th>\n",
       "      <td>2</td>\n",
       "      <td>2018-07-12</td>\n",
       "      <td>Asia</td>\n",
       "      <td>Tajikistan</td>\n",
       "      <td>Personal Care</td>\n",
       "      <td>4145</td>\n",
       "      <td>81.73</td>\n",
       "    </tr>\n",
       "    <tr>\n",
       "      <th>2</th>\n",
       "      <td>3</td>\n",
       "      <td>2011-07-06</td>\n",
       "      <td>Saharan Africa</td>\n",
       "      <td>Mozambique</td>\n",
       "      <td>Cosmetics</td>\n",
       "      <td>6407</td>\n",
       "      <td>437.20</td>\n",
       "    </tr>\n",
       "    <tr>\n",
       "      <th>3</th>\n",
       "      <td>4</td>\n",
       "      <td>2011-05-01</td>\n",
       "      <td>Central America</td>\n",
       "      <td>Panama</td>\n",
       "      <td>Personal Care</td>\n",
       "      <td>2810</td>\n",
       "      <td>81.73</td>\n",
       "    </tr>\n",
       "    <tr>\n",
       "      <th>4</th>\n",
       "      <td>5</td>\n",
       "      <td>2013-11-15</td>\n",
       "      <td>North America</td>\n",
       "      <td>Canada</td>\n",
       "      <td>Fruits</td>\n",
       "      <td>2110</td>\n",
       "      <td>9.33</td>\n",
       "    </tr>\n",
       "  </tbody>\n",
       "</table>\n",
       "</div>"
      ],
      "text/plain": [
       "   id Order_Date            Region     Country      Item_type  Quantity  \\\n",
       "0   1 2011-04-04        Australia    Australia           Meat      4300   \n",
       "1   2 2018-07-12              Asia  Tajikistan  Personal Care      4145   \n",
       "2   3 2011-07-06    Saharan Africa  Mozambique      Cosmetics      6407   \n",
       "3   4 2011-05-01  Central America       Panama  Personal Care      2810   \n",
       "4   5 2013-11-15     North America      Canada         Fruits      2110   \n",
       "\n",
       "    Price  \n",
       "0  421.89  \n",
       "1   81.73  \n",
       "2  437.20  \n",
       "3   81.73  \n",
       "4    9.33  "
      ]
     },
     "execution_count": 2,
     "metadata": {},
     "output_type": "execute_result"
    }
   ],
   "source": [
    "import_File = 'Sales_table.xlsx'\n",
    "df = pd.read_excel(import_File)\n",
    "df.head()"
   ]
  },
  {
   "cell_type": "markdown",
   "id": "305db733-ab63-459d-b094-69d19d9af5a2",
   "metadata": {},
   "source": [
    "## Step 3 : Setting the connection parameters"
   ]
  },
  {
   "cell_type": "code",
   "execution_count": 3,
   "id": "90bc1f5e-a125-4c9a-bdde-e8a16e6658f8",
   "metadata": {},
   "outputs": [],
   "source": [
    "conn = psycopg2.connect(\n",
    "    host = 'localhost',\n",
    "    database ='customersdb',\n",
    "    user ='postgres',\n",
    "    password ='giles'\n",
    ")\n",
    "cursor = conn.cursor()"
   ]
  },
  {
   "cell_type": "markdown",
   "id": "78fb4d51-73a2-456e-bf6c-4657589007dd",
   "metadata": {},
   "source": [
    "## Step 4 : Creating a table named Sales_table in PostgreSQL using an SQL query executed through Python. The table is defined within the Python script and is subsequently created in the connected PostgreSQL database.\"  "
   ]
  },
  {
   "cell_type": "code",
   "execution_count": null,
   "id": "af3a6a2a-0e7d-4821-afc5-9312addb4834",
   "metadata": {},
   "outputs": [],
   "source": [
    "Table_query = \"\"\"\n",
    "CREATE TABLE  Sales_table(\n",
    "    custid      INT PRIMARY KEY,\n",
    "    Order_Date  DATE,\n",
    "    Region      VARCHAR(100),\n",
    "    Country     VARCHAR(100),\n",
    "    Item_type   VARCHAR(100),\n",
    "    Quantity    INT,\n",
    "    Price       DECIMAL(10, 2)\n",
    ")\n",
    "\"\"\"\n",
    "cursor.execute(Table_query) \n",
    "conn.commit()"
   ]
  },
  {
   "cell_type": "markdown",
   "id": "e74d26c3-1fd6-4e2c-bdad-ff331919e2a2",
   "metadata": {},
   "source": [
    "### Checking the tale columns"
   ]
  },
  {
   "cell_type": "code",
   "execution_count": 10,
   "id": "aceee99e-9e6e-4485-9356-05a86fb8a579",
   "metadata": {},
   "outputs": [
    {
     "name": "stdout",
     "output_type": "stream",
     "text": [
      "Index(['id', 'Order_Date', 'Region', 'Country', 'Item_type', 'Quantity',\n",
      "       ' Price'],\n",
      "      dtype='object')\n"
     ]
    }
   ],
   "source": [
    "print(df.columns)"
   ]
  },
  {
   "cell_type": "markdown",
   "id": "f5a5e267-d810-475e-a009-48b354ce3cca",
   "metadata": {},
   "source": [
    "## Step 5: Converting the values in the \"Order_Date\" column of the DataFrame from string format to Python datetime objects, using the date format \"%y/%m/%d\" (year/month/day)."
   ]
  },
  {
   "cell_type": "code",
   "execution_count": null,
   "id": "755b3741-c2d1-42e6-b51e-b94c3376bd28",
   "metadata": {},
   "outputs": [],
   "source": [
    "df[\"Order_Date\"] = pd.to_datetime(df[\"Order_Date\"], format=\"%y/%m/%d\")"
   ]
  },
  {
   "cell_type": "markdown",
   "id": "ab309aba-5bb9-40e8-8a96-39ab3f6ccc78",
   "metadata": {},
   "source": [
    "## Step 6: Introduce tuples that hold a list of all the rows in the  DataFrame [df] as regular Python tuples"
   ]
  },
  {
   "cell_type": "code",
   "execution_count": null,
   "id": "90929022-0a34-4fd3-8ca9-02c6f74b42e1",
   "metadata": {},
   "outputs": [],
   "source": [
    "Tuples = list(df.itertuples(index=False, name=None))"
   ]
  },
  {
   "cell_type": "markdown",
   "id": "c6710b2e-649c-448d-8dcb-2bbed02b3d19",
   "metadata": {},
   "source": [
    "## Step 7: Inserting multiple rows of sales data into the Sales_table in the PostgreSQL database by executing a parameterized SQL INSERT query using the values stored in the Tuples list."
   ]
  },
  {
   "cell_type": "code",
   "execution_count": null,
   "id": "6624041c-7d47-4211-8c7b-083010fa33d3",
   "metadata": {},
   "outputs": [],
   "source": [
    "insert_query = \"\"\"\n",
    "INSERT INTO Sales_table(custid, Order_Date, Region, Country, Item_type, Quantity, Price)\n",
    "VALUES (%s, %s, %s, %s, %s, %s, %s)\n",
    "\"\"\"\n",
    "cursor.executemany(insert_query, Tuples)\n",
    "conn.commit()"
   ]
  },
  {
   "cell_type": "markdown",
   "id": "c360417b-2b77-46b7-81b5-869fbc85a201",
   "metadata": {},
   "source": [
    "## Step 8: Closing the cursor and Postgres database connection"
   ]
  },
  {
   "cell_type": "code",
   "execution_count": 9,
   "id": "eeb036cf-6228-4194-bd37-82ea4677acff",
   "metadata": {},
   "outputs": [],
   "source": [
    "    cursor.close()\n",
    "    conn.close()\n",
    "    "
   ]
  }
 ],
 "metadata": {
  "kernelspec": {
   "display_name": "Python 3 (ipykernel)",
   "language": "python",
   "name": "python3"
  },
  "language_info": {
   "codemirror_mode": {
    "name": "ipython",
    "version": 3
   },
   "file_extension": ".py",
   "mimetype": "text/x-python",
   "name": "python",
   "nbconvert_exporter": "python",
   "pygments_lexer": "ipython3",
   "version": "3.12.3"
  }
 },
 "nbformat": 4,
 "nbformat_minor": 5
}
